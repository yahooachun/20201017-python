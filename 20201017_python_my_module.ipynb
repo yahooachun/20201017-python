{
  "nbformat": 4,
  "nbformat_minor": 0,
  "metadata": {
    "colab": {
      "name": "20201017 python my module.ipynb",
      "provenance": [],
      "mount_file_id": "1e7sSyvYnisIqIpHj3h9yPOJ5x7JDLZCn",
      "authorship_tag": "ABX9TyPzvVkgmiP9Hh3/FNVm/vVZ",
      "include_colab_link": true
    },
    "kernelspec": {
      "name": "python3",
      "display_name": "Python 3"
    }
  },
  "cells": [
    {
      "cell_type": "markdown",
      "metadata": {
        "id": "view-in-github",
        "colab_type": "text"
      },
      "source": [
        "<a href=\"https://colab.research.google.com/github/yahooachun/20201017-python/blob/main/20201017_python_my_module.ipynb\" target=\"_parent\"><img src=\"https://colab.research.google.com/assets/colab-badge.svg\" alt=\"Open In Colab\"/></a>"
      ]
    },
    {
      "cell_type": "code",
      "metadata": {
        "id": "nroAX3KpVoYb",
        "outputId": "6173eb21-b772-4f9a-8d3b-3d2b73082dee",
        "colab": {
          "base_uri": "https://localhost:8080/",
          "height": 35
        }
      },
      "source": [
        "ls"
      ],
      "execution_count": 1,
      "outputs": [
        {
          "output_type": "stream",
          "text": [
            "\u001b[0m\u001b[01;34mdrive\u001b[0m/  \u001b[01;34msample_data\u001b[0m/\n"
          ],
          "name": "stdout"
        }
      ]
    },
    {
      "cell_type": "code",
      "metadata": {
        "id": "_S_G6-dAWHxx",
        "outputId": "0231644f-4e46-44e8-b896-97c6edbd87a4",
        "colab": {
          "base_uri": "https://localhost:8080/",
          "height": 35
        }
      },
      "source": [
        "cd drive"
      ],
      "execution_count": 2,
      "outputs": [
        {
          "output_type": "stream",
          "text": [
            "/content/drive\n"
          ],
          "name": "stdout"
        }
      ]
    },
    {
      "cell_type": "code",
      "metadata": {
        "id": "a3VQr5RPWLNI",
        "outputId": "9aa9d26d-a9ba-434a-8b70-e5f87feb65d5",
        "colab": {
          "base_uri": "https://localhost:8080/",
          "height": 35
        }
      },
      "source": [
        "ls"
      ],
      "execution_count": 3,
      "outputs": [
        {
          "output_type": "stream",
          "text": [
            "\u001b[0m\u001b[01;34m'My Drive'\u001b[0m/\n"
          ],
          "name": "stdout"
        }
      ]
    },
    {
      "cell_type": "code",
      "metadata": {
        "id": "ri8tYrAYWQDz",
        "outputId": "d0f4a237-3e99-4081-d156-62468906fe0b",
        "colab": {
          "base_uri": "https://localhost:8080/",
          "height": 862
        }
      },
      "source": [
        "ls"
      ],
      "execution_count": 5,
      "outputs": [
        {
          "output_type": "stream",
          "text": [
            "'106.10.11存股配股配息試算表(新增多檔持股列表+圓餅圖).xls'\n",
            "'106.7.25(存股)配股配息試算表.xls'\n",
            "'106.7.25(存股)配股配息試算表.xls 的副本.xls'\n",
            "'1.109年按怎準備教育部閩南語能認證考doc.doc 的副本'\n",
            "'1.109年按怎準備教育部閩南語能認證考doc.pdf 的副本.pdf'\n",
            "'1.按怎準備教育部閩南語認證考試1090418.ppt 的副本'\n",
            "\u001b[0m\u001b[01;34m'20180504-05 Gigi Concert'\u001b[0m/\n",
            "\u001b[01;34m'20200726 GAS'\u001b[0m/\n",
            " 2020年柴鼠金融股決選.xlsx\n",
            "'2.教育部閩南語常用虛字和語練習0724.27.doc 的副本'\n",
            "'2.教育部閩南語常用虛字和語練習0724.27.pdf 的副本.pdf'\n",
            "'3.教育部閩南語常用虛字和語練習答案0724.27.doc 的副本'\n",
            "'3.教育部閩南語常用虛字和語練習答案0724.27.pdf 的副本.pdf'\n",
            "\u001b[01;34m'Colab Notebooks'\u001b[0m/\n",
            "'dummy_crawler_demo 的副本.gsheet'\n",
            "'Emailing Entire Web Application Pentest Course.pdf'\n",
            "'GAS研習報名表-原始檔 - 副本.gsheet'\n",
            "'GAS研習專案-分享 的副本.gdoc'\n",
            "'Google 數位學程教材_製作優質履歷表_陳亞麟.pptx.pptx'\n",
            "'Loki_COSCUP 的副本.gslides'\n",
            "'Micro:bit Taiwan  【Classroom】 .gslides'\n",
            " PythonFunNotes_ch12_Files_20190420.pdf\n",
            "'Python 程式設計與應用_CH01 的副本.gdoc'\n",
            "'Python 程式設計與應用_CH06.gdoc'\n",
            "'Scratch_遊戲設計_教材.pptx 的副本.pptx'\n",
            " tello_ex.zip\n",
            "'TWCC x HackMD 0330.gslides'\n",
            " 分鏡表.gdoc\n",
            " \u001b[01;36m勝雄0727\u001b[0m@\n",
            "'咖啡館-購物車-原始檔 - 副本 (1).gsheet'\n",
            "'咖啡館-購物車-原始檔 - 副本.gsheet'\n",
            "'在電腦和手機安裝臺語輸入法.ppt 的副本'\n",
            "'存股配股配息試算表(2019 1.0+借券收益+總表版).xls'\n",
            "'存股配股配息試算表(2019 1.0版本).xls'\n",
            "'存股配股配息試算表(2019 1.0+總表版).xls'\n",
            "'成績查詢-(20200726)c.gsheet'\n",
            "'成績查詢-(分享) 的副本.gsheet'\n",
            "'未命名的 Jam'\n",
            "'範例_scratch劇本背景、角色與負責人分配表(文榤老師).docx'\n",
            "'範例_scratch劇本背景、角色與負責人分配表(文榤老師).gdoc'\n",
            "'聯絡我們-(原始檔) - 副本 (1).gsheet'\n",
            "'聯絡我們-(原始檔) - 副本 (2).gsheet'\n",
            "'聯絡我們-(原始檔) - 副本.gsheet'\n",
            "'股票理財入門表格（綜合板） .gsheet'\n",
            "'郭永鏜1.docx 的副本'\n",
            "'郭永鏜2.docx 的副本'\n"
          ],
          "name": "stdout"
        }
      ]
    },
    {
      "cell_type": "code",
      "metadata": {
        "id": "rcRH-8wlWWuv",
        "outputId": "8aa2a656-f8ce-46f7-9303-0e5440b2f2ea",
        "colab": {
          "base_uri": "https://localhost:8080/",
          "height": 35
        }
      },
      "source": [
        "cd Colab Notebooks"
      ],
      "execution_count": 6,
      "outputs": [
        {
          "output_type": "stream",
          "text": [
            "/content/drive/My Drive/Colab Notebooks\n"
          ],
          "name": "stdout"
        }
      ]
    },
    {
      "cell_type": "code",
      "metadata": {
        "id": "aasqGQGuWb34",
        "outputId": "bf3caebe-0a2f-48f3-87d2-3b41d7d743ef",
        "colab": {
          "base_uri": "https://localhost:8080/",
          "height": 54
        }
      },
      "source": [
        "ls"
      ],
      "execution_count": 7,
      "outputs": [
        {
          "output_type": "stream",
          "text": [
            "\u001b[0m\u001b[01;34mmy_module\u001b[0m/               「Pytorch.ipynb」的副本  Untitled0.ipynb\n",
            "python_20201017_1.ipynb  Untitled                 Untitled1.ipynb\n"
          ],
          "name": "stdout"
        }
      ]
    },
    {
      "cell_type": "code",
      "metadata": {
        "id": "z5YKSO3SWiRF",
        "outputId": "75b2e125-88aa-4b3e-f38d-17c3b6714653",
        "colab": {
          "base_uri": "https://localhost:8080/",
          "height": 35
        }
      },
      "source": [
        "#!/usr/bin/python\n",
        "# -*- coding: UTF-8 -*-\n",
        " \n",
        "# 導|載入模組\n",
        "import my_module.Nice_to_meet_you as haha2\n",
        " \n",
        "# 現在可以調用模組裡包含的函數了\n",
        "haha2.Nice_to_meet_you(\"MyFriends\")"
      ],
      "execution_count": 8,
      "outputs": [
        {
          "output_type": "stream",
          "text": [
            "Hello :  MyFriends  ! Nice to meet you! \n"
          ],
          "name": "stdout"
        }
      ]
    },
    {
      "cell_type": "code",
      "metadata": {
        "id": "NO_th2_bWk7n",
        "outputId": "06e48f71-6b82-4a73-c030-8fb59b882e64",
        "colab": {
          "base_uri": "https://localhost:8080/",
          "height": 35
        }
      },
      "source": [
        "#!/usr/bin/python\n",
        "# -*- coding: UTF-8 -*-\n",
        " \n",
        "# 導|載入模組\n",
        "import my_module.support as haha\n",
        " \n",
        "# 現在可以調用模組裡包含的函數了\n",
        "haha.print_func(\"MyFriends\")"
      ],
      "execution_count": 9,
      "outputs": [
        {
          "output_type": "stream",
          "text": [
            "Hello :  MyFriends\n"
          ],
          "name": "stdout"
        }
      ]
    }
  ]
}